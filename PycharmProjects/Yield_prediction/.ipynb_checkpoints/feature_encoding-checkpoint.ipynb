{
 "cells": [
  {
   "cell_type": "code",
   "execution_count": 1,
   "id": "4156dc6a",
   "metadata": {},
   "outputs": [],
   "source": [
    "from rdkit import Chem\n",
    "from openbabel import openbabel as ob\n",
    "from rdkit import Chem, RDConfig\n",
    "from rdkit.Chem import AllChem, ChemicalFeatures\n",
    "from rdkit.Chem import rdPartialCharges as GMCharge\n",
    "import numpy as np"
   ]
  },
  {
   "cell_type": "code",
   "execution_count": 2,
   "id": "9d068a31",
   "metadata": {},
   "outputs": [],
   "source": [
    "def one_hot_encoding(x, allowable_set):\n",
    "    return list(map(lambda s: x == s, allowable_set))"
   ]
  },
  {
   "cell_type": "code",
   "execution_count": 30,
   "id": "6b07d57c",
   "metadata": {},
   "outputs": [
    {
     "name": "stdout",
     "output_type": "stream",
     "text": [
      "6\n",
      "8\n",
      "6\n"
     ]
    }
   ],
   "source": [
    "m = Chem.MolFromSmiles('C1OC1')\n",
    "for atom in m.GetAtoms():\n",
    "    print(atom.GetAtomicNum())"
   ]
  },
  {
   "cell_type": "code",
   "execution_count": 4,
   "id": "2724852b",
   "metadata": {},
   "outputs": [],
   "source": [
    "class Atom_feat:\n",
    "\n",
    "    def atom_type_one_hot(atom):\n",
    "        \"\"\"One hot encoding of atom type.\"\"\"\n",
    "      \n",
    "        allowable_set = ['C', 'N', 'O', 'S', 'F', 'Si', 'P', 'Cl', 'Br', 'Mg', 'Na', 'Ca',\n",
    "                        'Fe', 'As', 'Al', 'I', 'B', 'V', 'K', 'Tl', 'Yb', 'Sb', 'Sn',\n",
    "                        'Ag', 'Pd', 'Co', 'Se', 'Ti', 'Zn', 'H', 'Li', 'Ge', 'Cu', 'Au',\n",
    "                        'Ni', 'Cd', 'In', 'Mn', 'Zr', 'Cr', 'Pt', 'Hg', 'Pb']\n",
    "\n",
    "        return one_hot_encoding(atom.GetSymbol(), allowable_set)\n",
    "\n",
    "    def atom_radical_electrons(atom):\n",
    "        \"\"\"Get number of radical electrons of an atom.\"\"\"\n",
    "        return [atom.GetNumRadicalElectrons()]\n",
    "\n",
    "    def atom_explicit_valence(atom):\n",
    "        \"\"\"Get the explicit valence of an atom.\"\"\"\n",
    "        return [atom.GetExplicitValence()]\n",
    "\n",
    "    def atom_hybridization_one_hot(atom):\n",
    "        \"\"\"Get the hybridization type of an atom.\"\"\"\n",
    "        allowable_set = [Chem.rdchem.HybridizationType.SP,\n",
    "                        Chem.rdchem.HybridizationType.SP2,\n",
    "                        Chem.rdchem.HybridizationType.SP3,\n",
    "                        Chem.rdchem.HybridizationType.SP3D,\n",
    "                        Chem.rdchem.HybridizationType.SP3D2]\n",
    "        return one_hot_encoding(atom.GetHybridization(), allowable_set)\n",
    "\n",
    "    def atom_partial_charge(atom):\n",
    "        \"\"\"Get Gasteiger partial charge for an atom.\"\"\"\n",
    "        \n",
    "        gasteiger_charge = atom.GetProp('_GasteigerCharge')\n",
    "        if gasteiger_charge in ['-nan', 'nan', '-inf', 'inf']:\n",
    "            gasteiger_charge = 0\n",
    "        return [float(gasteiger_charge)]\n",
    "\n",
    "    def atom_chirality_type_one_hot(atom):\n",
    "        \"\"\"One hot encoding for the chirality type of an atom.\"\"\"\n",
    "        if not atom.HasProp('_CIPCode'):\n",
    "            return [False, False]\n",
    "        allowable_set = ['R', 'S']\n",
    "        return one_hot_encoding(atom.GetProp('_CIPCode'), allowable_set)\n",
    "    feat_list = [atom_type_one_hot, atom_radical_electrons,atom_explicit_valence,atom_hybridization_one_hot,atom_partial_charge,atom_chirality_type_one_hot]"
   ]
  },
  {
   "cell_type": "code",
   "execution_count": 5,
   "id": "989bfd3a",
   "metadata": {},
   "outputs": [],
   "source": [
    "class Bond_feat:\n",
    "\n",
    "    def bond_type_one_hot(bond):\n",
    "        \"\"\"One hot encoding for the type of a bond.\"\"\"\n",
    "        allowable_set = [Chem.rdchem.BondType.SINGLE,\n",
    "                        Chem.rdchem.BondType.DOUBLE,\n",
    "                        Chem.rdchem.BondType.TRIPLE,\n",
    "                        Chem.rdchem.BondType.AROMATIC]\n",
    "        return one_hot_encoding(bond.GetBondType(), allowable_set)\n",
    "\n",
    "\n",
    "    def bond_stereo_one_hot(bond):\n",
    "        \"\"\"One hot encoding for the stereo configuration of a bond.\"\"\"\n",
    "        allowable_set = [Chem.rdchem.BondStereo.STEREONONE,\n",
    "                        Chem.rdchem.BondStereo.STEREOANY,\n",
    "                        Chem.rdchem.BondStereo.STEREOZ,\n",
    "                        Chem.rdchem.BondStereo.STEREOE,\n",
    "                        Chem.rdchem.BondStereo.STEREOCIS,\n",
    "                        Chem.rdchem.BondStereo.STEREOTRANS]\n",
    "        return one_hot_encoding(bond.GetStereo(), allowable_set)\n",
    "\n",
    "    \n",
    "    feat_list = [bond_type_one_hot, bond_stereo_one_hot]\n",
    "\n",
    "\n"
   ]
  },
  {
   "cell_type": "code",
   "execution_count": 20,
   "id": "eadcfa41",
   "metadata": {},
   "outputs": [],
   "source": [
    "class Mol:\n",
    "\n",
    "    def __init__(self, smiles=None, xyz=None, smarts=None):\n",
    "        self.smiles = smiles\n",
    "        self.xyz = xyz\n",
    "        self.smarts = smarts\n",
    "        \n",
    "        ## using smiles strings \n",
    "        if smiles !=None:\n",
    "            mol = Chem.MolFromSmiles(smiles)\n",
    "        elif smarts!=None:\n",
    "#             print('smart')\n",
    "            mol = Chem.MolFromSmarts(smarts)\n",
    "            mol.UpdatePropertyCache()\n",
    "            \n",
    "        ## smallest set of smallest rings (SSSR)\n",
    "        Chem.GetSymmSSSR(mol)\n",
    "        GMCharge.ComputeGasteigerCharges(mol,12)\n",
    "        self.mol = mol\n",
    "    \n",
    "    def get_atom_feature(self):\n",
    "        mol = self.mol\n",
    "        num_atoms = mol.GetNumAtoms()\n",
    "        Mol_atoms = np.empty(num_atoms, dtype = object)\n",
    "        print('number of atoms:',num_atoms)\n",
    "        mol.UpdatePropertyCache()\n",
    "        self.mol = mol\n",
    "        GMCharge.ComputeGasteigerCharges(mol,12)\n",
    "        position = []\n",
    "        for i in range(num_atoms):\n",
    "            atom_features = []\n",
    "\n",
    "            ## create atom object\n",
    "            atom = mol.GetAtomWithIdx(i)\n",
    "            print('this is atom:',atom)\n",
    "\n",
    "            for feat_name in Atom_feat.feat_list:\n",
    "                atom_features = np.append(atom_features,(feat_name(atom)))\n",
    "            Mol_atoms[i] = atom_features\n",
    "        return Mol_atoms,position\n",
    "\n",
    "\n",
    "    def get_bond_feature(self):       \n",
    "        mol = self.mol\n",
    "        num_bonds = mol.GetNumBonds()\n",
    "        adjacency = np.empty(num_bonds, dtype = object)\n",
    "        Mol_bonds = np.empty(num_bonds, dtype = object)\n",
    "        for i in range(num_bonds):\n",
    "            bond_features = []\n",
    "            bond = mol.GetBondWithIdx(i)\n",
    "            u = bond.GetBeginAtomIdx()\n",
    "            v = bond.GetEndAtomIdx()\n",
    "            adjacency[i] = [u,v]\n",
    "            for feat_name in Bond_feat.feat_list:\n",
    "                bond_features = np.append(bond_features,(feat_name(bond)))\n",
    "            Mol_bonds[i] = bond_features\n",
    "        \n",
    "        return adjacency,Mol_bonds\n",
    "    \n",
    "\n",
    "            \n",
    "    \n",
    "    def get_func(self):\n",
    "        with open('updated_patterns_feature.txt','r') as f:\n",
    "            lines = f.readlines()\n",
    "               \n",
    "        func_g_struct = {x.split()[0]:x.split()[1] for x in lines}\n",
    "        func_g_name = {x.split()[0]:x.split()[2] for x in lines}\n",
    "        bond_breaks = {x.split()[0]:x.split()[3] for x in lines}\n",
    "        fg_features = {x.split()[0]:x.split()[4:10] for x in lines}\n",
    "\n",
    "        \n",
    "        mol =self.mol\n",
    "        func_list = []\n",
    "        for fg in func_g_struct.keys():\n",
    "            func = {}\n",
    "            fg_feat = []\n",
    "            substruct = Chem.MolFromSmarts(fg)\n",
    "#             print('substruct',substruct)\n",
    "#             print('substructure',mol.GetSubstructMatch(substruct))\n",
    "            hit_ats = list(mol.GetSubstructMatch(substruct))\n",
    "            if len(hit_ats)>0:\n",
    "                func['name'] =  func_g_name[fg]\n",
    "                func['strutures'] = fg\n",
    "                func['label'] = func_g_struct[fg]\n",
    "                func['bond_breakNum'] =  bond_breaks[fg]\n",
    "                func['position'] = hit_ats\n",
    "                func['features'] = fg_features[fg]\n",
    "                func_list.append(func)\n",
    "        \n",
    "        return func_list"
   ]
  },
  {
   "cell_type": "code",
   "execution_count": 7,
   "id": "f7f94f77",
   "metadata": {},
   "outputs": [],
   "source": [
    "reaction1 ='[CH2:23]1[O:24][CH2:25][CH2:26][CH2:27]1.[F:1][c:2]1[c:3]([N+:10](=[O:11])[O-:12])[cH:4][c:5]([F:9])[c:6]([F:8])[cH:7]1.[H-:22].[NH2:13][c:14]1[s:15][cH:16][cH:17][c:18]1[C:19]#[N:20].[Na+:21]>>[c:2]1([NH:13][c:14]2[s:15][cH:16][cH:17][c:18]2[C:19]#[N:20])[c:3]([N+:10](=[O:11])[O-:12])[cH:4][c:5]([F:9])[c:6]([F:8])[cH:7]1' "
   ]
  },
  {
   "cell_type": "code",
   "execution_count": 8,
   "id": "f208dc66",
   "metadata": {},
   "outputs": [],
   "source": [
    "reaction2 = 'C=Cc1cc(Br)ccc1F.CCOC(C)=O.[HH].[Pd]>>CCc1cc(Br)ccc1F'"
   ]
  },
  {
   "cell_type": "code",
   "execution_count": 55,
   "id": "f4fbf449",
   "metadata": {},
   "outputs": [],
   "source": [
    "reactants = reaction1.split('.')\n",
    "product = reaction1.split('>>')[1]"
   ]
  },
  {
   "cell_type": "code",
   "execution_count": 56,
   "id": "d91b021f",
   "metadata": {},
   "outputs": [
    {
     "name": "stdout",
     "output_type": "stream",
     "text": [
      "['[CH2:23]1[O:24][CH2:25][CH2:26][CH2:27]1', '[F:1][c:2]1[c:3]([N+:10](=[O:11])[O-:12])[cH:4][c:5]([F:9])[c:6]([F:8])[cH:7]1', '[H-:22]', '[NH2:13][c:14]1[s:15][cH:16][cH:17][c:18]1[C:19]#[N:20]', '[Na+:21]>>[c:2]1([NH:13][c:14]2[s:15][cH:16][cH:17][c:18]2[C:19]#[N:20])[c:3]([N+:10](=[O:11])[O-:12])[cH:4][c:5]([F:9])[c:6]([F:8])[cH:7]1']\n"
     ]
    }
   ],
   "source": [
    "print(reactants)"
   ]
  },
  {
   "cell_type": "code",
   "execution_count": 11,
   "id": "ee73153f",
   "metadata": {},
   "outputs": [
    {
     "name": "stdout",
     "output_type": "stream",
     "text": [
      "[CH2:23]1[O:24][CH2:25][CH2:26][CH2:27]1\n",
      "[F:1][c:2]1[c:3]([N+:10](=[O:11])[O-:12])[cH:4][c:5]([F:9])[c:6]([F:8])[cH:7]1\n",
      "[H-:22]\n",
      "[NH2:13][c:14]1[s:15][cH:16][cH:17][c:18]1[C:19]#[N:20]\n",
      "[Na+:21]>>[c:2]1([NH:13][c:14]2[s:15][cH:16][cH:17][c:18]2[C:19]#[N:20])[c:3]([N+:10](=[O:11])[O-:12])[cH:4][c:5]([F:9])[c:6]([F:8])[cH:7]1\n"
     ]
    }
   ],
   "source": [
    "for r in reactants:\n",
    "    print(r)"
   ]
  },
  {
   "cell_type": "code",
   "execution_count": 12,
   "id": "91ed66a0",
   "metadata": {},
   "outputs": [
    {
     "name": "stdout",
     "output_type": "stream",
     "text": [
      "[c:2]1([NH:13][c:14]2[s:15][cH:16][cH:17][c:18]2[C:19]#[N:20])[c:3]([N+:10](=[O:11])[O-:12])[cH:4][c:5]([F:9])[c:6]([F:8])[cH:7]1\n"
     ]
    }
   ],
   "source": [
    "print(product)"
   ]
  },
  {
   "cell_type": "code",
   "execution_count": 54,
   "id": "cc378eb7",
   "metadata": {},
   "outputs": [
    {
     "data": {
      "text/plain": [
       "'N'"
      ]
     },
     "execution_count": 54,
     "metadata": {},
     "output_type": "execute_result"
    }
   ],
   "source": [
    "m = Chem.MolFromSmarts(product)\n",
    "m.GetAtomWithIdx(10).GetSymbol()"
   ]
  },
  {
   "cell_type": "code",
   "execution_count": 40,
   "id": "8e996bc7",
   "metadata": {},
   "outputs": [
    {
     "name": "stdout",
     "output_type": "stream",
     "text": [
      "{'name': 'halide', 'strutures': '[$([F,Cl,Br,I])]([#6])', 'label': '201', 'bond_breakNum': '0', 'position': [15, 14], 'features': ['-10.563', '3.219', '13.782', '0.0', '4.0', '0.0']}\n",
      "{'name': 'nitrile', 'strutures': '[#6]C#N', 'label': '208', 'bond_breakNum': '0', 'position': [6, 7, 8], 'features': ['-8.873', '1.002', '9.875', '23.79', '5.0', '0.0']}\n",
      "{'name': 'nitro', 'strutures': '[#6][$(N(=O)~[O;H0;-0,-1])]', 'label': '207', 'bond_breakNum': '0', 'position': [9, 10], 'features': ['-10.564', '3.219', '13.782', '0.0', '4.0', '0.0']}\n",
      "{'name': 'thiophene', 'strutures': 's1cccc1', 'label': '301', 'bond_breakNum': '4', 'position': [3, 2, 6, 5, 4], 'features': ['-6.35', '-0.228', '6.121', '28.24', '5.0', '0.0']}\n",
      "{'name': 'benzene', 'strutures': 'c1ccccc1', 'label': '401', 'bond_breakNum': '4', 'position': [0, 9, 13, 14, 16, 18], 'features': ['-6.718', '0.072', '6.79', '0.0', '6.0', '0.0']}\n"
     ]
    }
   ],
   "source": [
    "t_mol = Mol(smarts=product) \n",
    "frag_feat = t_mol.get_func()\n",
    "for f in frag_feat:\n",
    "    print(f)"
   ]
  },
  {
   "cell_type": "code",
   "execution_count": 155,
   "id": "23f47ade",
   "metadata": {},
   "outputs": [
    {
     "name": "stdout",
     "output_type": "stream",
     "text": [
      "-10.563\n",
      "-8.873\n",
      "-10.564\n",
      "-6.35\n",
      "-6.718\n"
     ]
    }
   ],
   "source": [
    "for fg in frag_feat:\n",
    "    print(float(fg['features'][0]))"
   ]
  },
  {
   "cell_type": "code",
   "execution_count": 50,
   "id": "2f4b2f46",
   "metadata": {},
   "outputs": [
    {
     "name": "stdout",
     "output_type": "stream",
     "text": [
      "number of atoms: 19\n",
      "this is atom: <rdkit.Chem.rdchem.QueryAtom object at 0x7f89e46b5e80>\n",
      "this is atom: <rdkit.Chem.rdchem.QueryAtom object at 0x7f89e4654e80>\n",
      "this is atom: <rdkit.Chem.rdchem.QueryAtom object at 0x7f89e46b5e80>\n",
      "this is atom: <rdkit.Chem.rdchem.QueryAtom object at 0x7f89e46b2f40>\n",
      "this is atom: <rdkit.Chem.rdchem.QueryAtom object at 0x7f89e46b5e80>\n",
      "this is atom: <rdkit.Chem.rdchem.QueryAtom object at 0x7f89e46b2f40>\n",
      "this is atom: <rdkit.Chem.rdchem.QueryAtom object at 0x7f89e46b5e80>\n",
      "this is atom: <rdkit.Chem.rdchem.QueryAtom object at 0x7f89e4654e80>\n",
      "this is atom: <rdkit.Chem.rdchem.QueryAtom object at 0x7f89e46b5e80>\n",
      "this is atom: <rdkit.Chem.rdchem.QueryAtom object at 0x7f89e4654e80>\n",
      "this is atom: <rdkit.Chem.rdchem.QueryAtom object at 0x7f89e46b5e80>\n",
      "this is atom: <rdkit.Chem.rdchem.QueryAtom object at 0x7f89e4654e80>\n",
      "this is atom: <rdkit.Chem.rdchem.QueryAtom object at 0x7f89e46b5e80>\n",
      "this is atom: <rdkit.Chem.rdchem.QueryAtom object at 0x7f89e4654e80>\n",
      "this is atom: <rdkit.Chem.rdchem.QueryAtom object at 0x7f89e46b5e80>\n",
      "this is atom: <rdkit.Chem.rdchem.QueryAtom object at 0x7f89e4654e80>\n",
      "this is atom: <rdkit.Chem.rdchem.QueryAtom object at 0x7f89e46b5e80>\n",
      "this is atom: <rdkit.Chem.rdchem.QueryAtom object at 0x7f89e4654e80>\n",
      "this is atom: <rdkit.Chem.rdchem.QueryAtom object at 0x7f89e46b5e80>\n",
      "reactants: [c:2]1([NH:13][c:14]2[s:15][cH:16][cH:17][c:18]2[C:19]#[N:20])[c:3]([N+:10](=[O:11])[O-:12])[cH:4][c:5]([F:9])[c:6]([F:8])[cH:7]1\n",
      "atom_feature: []\n",
      "adjacency [list([1, 2]) list([2, 3]) list([3, 4]) list([4, 5]) list([5, 6])\n",
      " list([6, 7]) list([7, 8]) list([1, 0]) list([0, 9]) list([10, 11])\n",
      " list([10, 12]) list([10, 9]) list([9, 13]) list([13, 14]) list([15, 14])\n",
      " list([14, 16]) list([17, 16]) list([16, 18]) list([18, 0]) list([6, 2])]\n",
      "bond [array([1., 0., 0., 0., 1., 0., 0., 0., 0., 0.])\n",
      " array([0., 0., 0., 1., 1., 0., 0., 0., 0., 0.])\n",
      " array([0., 0., 0., 1., 1., 0., 0., 0., 0., 0.])\n",
      " array([0., 0., 0., 1., 1., 0., 0., 0., 0., 0.])\n",
      " array([0., 0., 0., 1., 1., 0., 0., 0., 0., 0.])\n",
      " array([1., 0., 0., 0., 1., 0., 0., 0., 0., 0.])\n",
      " array([0., 0., 1., 0., 1., 0., 0., 0., 0., 0.])\n",
      " array([1., 0., 0., 0., 1., 0., 0., 0., 0., 0.])\n",
      " array([0., 0., 0., 1., 1., 0., 0., 0., 0., 0.])\n",
      " array([0., 1., 0., 0., 1., 0., 0., 0., 0., 0.])\n",
      " array([1., 0., 0., 0., 1., 0., 0., 0., 0., 0.])\n",
      " array([1., 0., 0., 0., 1., 0., 0., 0., 0., 0.])\n",
      " array([0., 0., 0., 1., 1., 0., 0., 0., 0., 0.])\n",
      " array([0., 0., 0., 1., 1., 0., 0., 0., 0., 0.])\n",
      " array([1., 0., 0., 0., 1., 0., 0., 0., 0., 0.])\n",
      " array([0., 0., 0., 1., 1., 0., 0., 0., 0., 0.])\n",
      " array([1., 0., 0., 0., 1., 0., 0., 0., 0., 0.])\n",
      " array([0., 0., 0., 1., 1., 0., 0., 0., 0., 0.])\n",
      " array([0., 0., 0., 1., 1., 0., 0., 0., 0., 0.])\n",
      " array([0., 0., 0., 1., 1., 0., 0., 0., 0., 0.])]\n",
      "frag [{'name': 'halide', 'strutures': '[$([F,Cl,Br,I])]([#6])', 'label': '201', 'bond_breakNum': '0', 'position': [15, 14], 'features': ['-10.563', '3.219', '13.782', '0.0', '4.0', '0.0']}, {'name': 'nitrile', 'strutures': '[#6]C#N', 'label': '208', 'bond_breakNum': '0', 'position': [6, 7, 8], 'features': ['-8.873', '1.002', '9.875', '23.79', '5.0', '0.0']}, {'name': 'nitro', 'strutures': '[#6][$(N(=O)~[O;H0;-0,-1])]', 'label': '207', 'bond_breakNum': '0', 'position': [9, 10], 'features': ['-10.564', '3.219', '13.782', '0.0', '4.0', '0.0']}, {'name': 'thiophene', 'strutures': 's1cccc1', 'label': '301', 'bond_breakNum': '4', 'position': [3, 2, 6, 5, 4], 'features': ['-6.35', '-0.228', '6.121', '28.24', '5.0', '0.0']}, {'name': 'benzene', 'strutures': 'c1ccccc1', 'label': '401', 'bond_breakNum': '4', 'position': [0, 9, 13, 14, 16, 18], 'features': ['-6.718', '0.072', '6.79', '0.0', '6.0', '0.0']}]\n"
     ]
    }
   ],
   "source": [
    "\n",
    "    for reactant in product.split('.'):\n",
    "        mol = Mol(smarts=reactant) \n",
    "        atom_position,atom_feat = mol.get_atom_feature()\n",
    "        adjacency, bond_feat = mol.get_bond_feature()\n",
    "        frag_feat = mol.get_func()\n",
    "        print('reactants:',reactant)\n",
    "        print('atom_feature:',atom_feat)\n",
    "        print('adjacency',adjacency)\n",
    "        print('bond',bond_feat)\n",
    "        print('frag',frag_feat)"
   ]
  },
  {
   "cell_type": "code",
   "execution_count": 188,
   "id": "a69a1070",
   "metadata": {
    "scrolled": true
   },
   "outputs": [
    {
     "data": {
      "text/html": [
       "<div>\n",
       "<style scoped>\n",
       "    .dataframe tbody tr th:only-of-type {\n",
       "        vertical-align: middle;\n",
       "    }\n",
       "\n",
       "    .dataframe tbody tr th {\n",
       "        vertical-align: top;\n",
       "    }\n",
       "\n",
       "    .dataframe thead th {\n",
       "        text-align: right;\n",
       "    }\n",
       "</style>\n",
       "<table border=\"1\" class=\"dataframe\">\n",
       "  <thead>\n",
       "    <tr style=\"text-align: right;\">\n",
       "      <th></th>\n",
       "      <th>rxn</th>\n",
       "      <th>scaled_yield</th>\n",
       "      <th>reactants</th>\n",
       "      <th>product</th>\n",
       "    </tr>\n",
       "  </thead>\n",
       "  <tbody>\n",
       "    <tr>\n",
       "      <th>0</th>\n",
       "      <td>CCOS(=O)(=O)OCC.CN(C)C=O.[H-]~[Na+].c1cnc2[nH]...</td>\n",
       "      <td>0.648</td>\n",
       "      <td>[CCOS(=O)(=O)OCC.CN(C)C=O.[H-]~[Na+].c1cnc2[nH...</td>\n",
       "      <td>CCn1cnc2ncccc21</td>\n",
       "    </tr>\n",
       "    <tr>\n",
       "      <th>1</th>\n",
       "      <td>CN(C)C=O.ClCc1ccccc1.O=C([O-])[O-]~[K+]~[K+].c...</td>\n",
       "      <td>0.415</td>\n",
       "      <td>[CN(C)C=O.ClCc1ccccc1.O=C([O-])[O-]~[K+]~[K+]....</td>\n",
       "      <td>c1ccc(Cn2c(CCc3nc4ccccc4n3Cc3ccccc3)nc3ccccc32...</td>\n",
       "    </tr>\n",
       "    <tr>\n",
       "      <th>2</th>\n",
       "      <td>CC(C)=O.CCN(CC)CC.NCC(=O)N1C[C@H](NC(=O)c2cccc...</td>\n",
       "      <td>0.182</td>\n",
       "      <td>[CC(C)=O.CCN(CC)CC.NCC(=O)N1C[C@H](NC(=O)c2ccc...</td>\n",
       "      <td>O=C(N[C@@H]1C[C@@H](C(=O)O)N(C(=O)CNC(=O)C(F)(...</td>\n",
       "    </tr>\n",
       "    <tr>\n",
       "      <th>3</th>\n",
       "      <td>CC(=O)OC(C)=O.NCC(=O)N1C[C@H](NC(=O)c2ccccc2)C...</td>\n",
       "      <td>0.286</td>\n",
       "      <td>[CC(=O)OC(C)=O.NCC(=O)N1C[C@H](NC(=O)c2ccccc2)...</td>\n",
       "      <td>O=CNCC(=O)N1C[C@H](NC(=O)c2ccccc2)C[C@H]1C(=O)O</td>\n",
       "    </tr>\n",
       "    <tr>\n",
       "      <th>4</th>\n",
       "      <td>CC(=O)Oc1ccc(-c2cnc(N)c(Cc3ccccc3)n2)cc1.O=C([...</td>\n",
       "      <td>0.276</td>\n",
       "      <td>[CC(=O)Oc1ccc(-c2cnc(N)c(Cc3ccccc3)n2)cc1.O=C(...</td>\n",
       "      <td>CC(=O)Oc1ccc(-c2cnc(NS(=O)(=O)Cc3ccccc3)c(Cc3c...</td>\n",
       "    </tr>\n",
       "    <tr>\n",
       "      <th>...</th>\n",
       "      <td>...</td>\n",
       "      <td>...</td>\n",
       "      <td>...</td>\n",
       "      <td>...</td>\n",
       "    </tr>\n",
       "    <tr>\n",
       "      <th>95</th>\n",
       "      <td>C1CCOC1.CCN(CC)CC.CS(=O)(=O)Cl.Nc1ncnn2c(C3CCN...</td>\n",
       "      <td>0.293</td>\n",
       "      <td>[C1CCOC1.CCN(CC)CC.CS(=O)(=O)Cl.Nc1ncnn2c(C3CC...</td>\n",
       "      <td>CS(=O)(=O)N1CCC(c2cc(-c3ccc4cn(Cc5ccccc5)nc4c3...</td>\n",
       "    </tr>\n",
       "    <tr>\n",
       "      <th>96</th>\n",
       "      <td>CC(C)(C)[Si](C)(C)OCCBr.Nc1ncnn2c(C3CCNC3)cc(-...</td>\n",
       "      <td>0.520</td>\n",
       "      <td>[CC(C)(C)[Si](C)(C)OCCBr.Nc1ncnn2c(C3CCNC3)cc(...</td>\n",
       "      <td>CC(C)(C)[Si](C)(C)OCCN1CCC(c2cc(-c3ccc4cn(Cc5c...</td>\n",
       "    </tr>\n",
       "    <tr>\n",
       "      <th>97</th>\n",
       "      <td>C1CCNC1.CCN(C(C)C)C(C)C.CN(C)C=O.CS(=O)(=O)OCC...</td>\n",
       "      <td>0.058</td>\n",
       "      <td>[C1CCNC1.CCN(C(C)C)C(C)C.CN(C)C=O.CS(=O)(=O)OC...</td>\n",
       "      <td>Nc1ncnn2c(CC3CC3CN3CCCC3)cc(-c3ccc4cn(Cc5ccccc...</td>\n",
       "    </tr>\n",
       "    <tr>\n",
       "      <th>98</th>\n",
       "      <td>C1CCOC1.C1COCCO1.CC(C)(C)OC(=O)N1CCC(C(=O)c2cc...</td>\n",
       "      <td>0.778</td>\n",
       "      <td>[C1CCOC1.C1COCCO1.CC(C)(C)OC(=O)N1CCC(C(=O)c2c...</td>\n",
       "      <td>Nc1ncnn2c(C(=O)C3CCNC3)cc(-c3ccc4cn(Cc5ccccc5)...</td>\n",
       "    </tr>\n",
       "    <tr>\n",
       "      <th>99</th>\n",
       "      <td>CC#N~CO.CC(=O)Cl.Cl~Nc1ncnn2c(C(=O)C3CCNC3)cc(...</td>\n",
       "      <td>0.478</td>\n",
       "      <td>[CC#N~CO.CC(=O)Cl.Cl~Nc1ncnn2c(C(=O)C3CCNC3)cc...</td>\n",
       "      <td>CC(=O)N1CCC(C(=O)c2cc(-c3ccc4cn(Cc5ccccc5)nc4c...</td>\n",
       "    </tr>\n",
       "  </tbody>\n",
       "</table>\n",
       "<p>100 rows × 4 columns</p>\n",
       "</div>"
      ],
      "text/plain": [
       "                                                  rxn  scaled_yield  \\\n",
       "0   CCOS(=O)(=O)OCC.CN(C)C=O.[H-]~[Na+].c1cnc2[nH]...         0.648   \n",
       "1   CN(C)C=O.ClCc1ccccc1.O=C([O-])[O-]~[K+]~[K+].c...         0.415   \n",
       "2   CC(C)=O.CCN(CC)CC.NCC(=O)N1C[C@H](NC(=O)c2cccc...         0.182   \n",
       "3   CC(=O)OC(C)=O.NCC(=O)N1C[C@H](NC(=O)c2ccccc2)C...         0.286   \n",
       "4   CC(=O)Oc1ccc(-c2cnc(N)c(Cc3ccccc3)n2)cc1.O=C([...         0.276   \n",
       "..                                                ...           ...   \n",
       "95  C1CCOC1.CCN(CC)CC.CS(=O)(=O)Cl.Nc1ncnn2c(C3CCN...         0.293   \n",
       "96  CC(C)(C)[Si](C)(C)OCCBr.Nc1ncnn2c(C3CCNC3)cc(-...         0.520   \n",
       "97  C1CCNC1.CCN(C(C)C)C(C)C.CN(C)C=O.CS(=O)(=O)OCC...         0.058   \n",
       "98  C1CCOC1.C1COCCO1.CC(C)(C)OC(=O)N1CCC(C(=O)c2cc...         0.778   \n",
       "99  CC#N~CO.CC(=O)Cl.Cl~Nc1ncnn2c(C(=O)C3CCNC3)cc(...         0.478   \n",
       "\n",
       "                                            reactants  \\\n",
       "0   [CCOS(=O)(=O)OCC.CN(C)C=O.[H-]~[Na+].c1cnc2[nH...   \n",
       "1   [CN(C)C=O.ClCc1ccccc1.O=C([O-])[O-]~[K+]~[K+]....   \n",
       "2   [CC(C)=O.CCN(CC)CC.NCC(=O)N1C[C@H](NC(=O)c2ccc...   \n",
       "3   [CC(=O)OC(C)=O.NCC(=O)N1C[C@H](NC(=O)c2ccccc2)...   \n",
       "4   [CC(=O)Oc1ccc(-c2cnc(N)c(Cc3ccccc3)n2)cc1.O=C(...   \n",
       "..                                                ...   \n",
       "95  [C1CCOC1.CCN(CC)CC.CS(=O)(=O)Cl.Nc1ncnn2c(C3CC...   \n",
       "96  [CC(C)(C)[Si](C)(C)OCCBr.Nc1ncnn2c(C3CCNC3)cc(...   \n",
       "97  [C1CCNC1.CCN(C(C)C)C(C)C.CN(C)C=O.CS(=O)(=O)OC...   \n",
       "98  [C1CCOC1.C1COCCO1.CC(C)(C)OC(=O)N1CCC(C(=O)c2c...   \n",
       "99  [CC#N~CO.CC(=O)Cl.Cl~Nc1ncnn2c(C(=O)C3CCNC3)cc...   \n",
       "\n",
       "                                              product  \n",
       "0                                     CCn1cnc2ncccc21  \n",
       "1   c1ccc(Cn2c(CCc3nc4ccccc4n3Cc3ccccc3)nc3ccccc32...  \n",
       "2   O=C(N[C@@H]1C[C@@H](C(=O)O)N(C(=O)CNC(=O)C(F)(...  \n",
       "3     O=CNCC(=O)N1C[C@H](NC(=O)c2ccccc2)C[C@H]1C(=O)O  \n",
       "4   CC(=O)Oc1ccc(-c2cnc(NS(=O)(=O)Cc3ccccc3)c(Cc3c...  \n",
       "..                                                ...  \n",
       "95  CS(=O)(=O)N1CCC(c2cc(-c3ccc4cn(Cc5ccccc5)nc4c3...  \n",
       "96  CC(C)(C)[Si](C)(C)OCCN1CCC(c2cc(-c3ccc4cn(Cc5c...  \n",
       "97  Nc1ncnn2c(CC3CC3CN3CCCC3)cc(-c3ccc4cn(Cc5ccccc...  \n",
       "98  Nc1ncnn2c(C(=O)C3CCNC3)cc(-c3ccc4cn(Cc5ccccc5)...  \n",
       "99  CC(=O)N1CCC(C(=O)c2cc(-c3ccc4cn(Cc5ccccc5)nc4c...  \n",
       "\n",
       "[100 rows x 4 columns]"
      ]
     },
     "execution_count": 188,
     "metadata": {},
     "output_type": "execute_result"
    }
   ],
   "source": [
    "import pandas as pd\n",
    "\n",
    "df = pd.read_csv('milligram_test_random_split.csv',header=0)\n",
    "df = df.drop(columns= ['Id'])\n",
    "\n",
    "dft = df.iloc[:100]\n",
    "\n",
    "rea = []\n",
    "pro = []\n",
    "for rxn in enumerate(dft['rxn']):\n",
    "    reactants = rxn[1].split(',')\n",
    "    product = rxn[1].split('>>')[1]\n",
    "    rea.append(reactants)\n",
    "    pro.append(product)\n",
    "dft.insert(loc=2,\n",
    "          column='reactants',\n",
    "          value=rea)\n",
    "dft.insert(loc=3,\n",
    "          column='product',\n",
    "          value=pro)"
   ]
  },
  {
   "cell_type": "code",
   "execution_count": 201,
   "id": "e8d9fa16",
   "metadata": {},
   "outputs": [
    {
     "data": {
      "text/plain": [
       "['CCOS(=O)(=O)OCC',\n",
       " 'CN(C)C=O',\n",
       " '[H-]~[Na+]',\n",
       " 'c1cnc2[nH]cnc2c1>>CCn1cnc2ncccc21']"
      ]
     },
     "execution_count": 201,
     "metadata": {},
     "output_type": "execute_result"
    }
   ],
   "source": [
    "a = dft['reactants'][0]\n",
    "a[0].split('.')"
   ]
  },
  {
   "cell_type": "code",
   "execution_count": null,
   "id": "e7a38f03",
   "metadata": {},
   "outputs": [],
   "source": []
  }
 ],
 "metadata": {
  "kernelspec": {
   "display_name": "Python 3",
   "language": "python",
   "name": "python3"
  },
  "language_info": {
   "codemirror_mode": {
    "name": "ipython",
    "version": 3
   },
   "file_extension": ".py",
   "mimetype": "text/x-python",
   "name": "python",
   "nbconvert_exporter": "python",
   "pygments_lexer": "ipython3",
   "version": "3.8.8"
  }
 },
 "nbformat": 4,
 "nbformat_minor": 5
}
